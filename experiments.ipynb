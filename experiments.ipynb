{
 "cells": [
  {
   "cell_type": "code",
   "execution_count": 2,
   "metadata": {},
   "outputs": [],
   "source": [
    "# Importing the required packages\n",
    "import pandas as pd\n",
    "import numpy as np\n",
    "from sklearn.linear_model import LogisticRegression\n",
    "from sklearn.ensemble import RandomForestClassifier\n",
    "from sklearn.tree import DecisionTreeClassifier\n",
    "from matplotlib import pyplot as plt\n",
    "from sklearn.preprocessing import LabelEncoder\n",
    "from sklearn.model_selection import train_test_split, GridSearchCV\n",
    "from sklearn import metrics\n",
    "import mlflow\n",
    "from sklearn.impute import SimpleImputer\n",
    "from sklearn.preprocessing import OneHotEncoder"
   ]
  },
  {
   "cell_type": "code",
   "execution_count": 2,
   "metadata": {},
   "outputs": [
    {
     "name": "stderr",
     "output_type": "stream",
     "text": [
      "'ipykernel' is not recognized as an internal or external command,\n",
      "operable program or batch file.\n"
     ]
    }
   ],
   "source": [
    "!ipykernel --version"
   ]
  },
  {
   "cell_type": "code",
   "execution_count": 3,
   "metadata": {},
   "outputs": [],
   "source": [
    "dataset = pd.read_csv(\"train.csv\")"
   ]
  },
  {
   "cell_type": "code",
   "execution_count": 5,
   "metadata": {},
   "outputs": [
    {
     "ename": "AttributeError",
     "evalue": "'DataFrame' object has no attribute 'toarray'",
     "output_type": "error",
     "traceback": [
      "\u001b[1;31m---------------------------------------------------------------------------\u001b[0m",
      "\u001b[1;31mAttributeError\u001b[0m                            Traceback (most recent call last)",
      "\u001b[1;32m~\\AppData\\Local\\Temp\\ipykernel_6524\\327174637.py\u001b[0m in \u001b[0;36m?\u001b[1;34m()\u001b[0m\n\u001b[1;32m----> 1\u001b[1;33m \u001b[0mnp\u001b[0m\u001b[1;33m.\u001b[0m\u001b[0misnan\u001b[0m\u001b[1;33m(\u001b[0m\u001b[0mdataset\u001b[0m\u001b[1;33m.\u001b[0m\u001b[0mtoarray\u001b[0m\u001b[1;33m(\u001b[0m\u001b[1;33m)\u001b[0m\u001b[1;33m)\u001b[0m\u001b[1;33m\u001b[0m\u001b[1;33m\u001b[0m\u001b[0m\n\u001b[0m",
      "\u001b[1;32mc:\\Users\\mrafi\\anaconda3\\envs\\mflowenv\\lib\\site-packages\\pandas\\core\\generic.py\u001b[0m in \u001b[0;36m?\u001b[1;34m(self, name)\u001b[0m\n\u001b[0;32m   6295\u001b[0m             \u001b[1;32mand\u001b[0m \u001b[0mname\u001b[0m \u001b[1;32mnot\u001b[0m \u001b[1;32min\u001b[0m \u001b[0mself\u001b[0m\u001b[1;33m.\u001b[0m\u001b[0m_accessors\u001b[0m\u001b[1;33m\u001b[0m\u001b[1;33m\u001b[0m\u001b[0m\n\u001b[0;32m   6296\u001b[0m             \u001b[1;32mand\u001b[0m \u001b[0mself\u001b[0m\u001b[1;33m.\u001b[0m\u001b[0m_info_axis\u001b[0m\u001b[1;33m.\u001b[0m\u001b[0m_can_hold_identifiers_and_holds_name\u001b[0m\u001b[1;33m(\u001b[0m\u001b[0mname\u001b[0m\u001b[1;33m)\u001b[0m\u001b[1;33m\u001b[0m\u001b[1;33m\u001b[0m\u001b[0m\n\u001b[0;32m   6297\u001b[0m         ):\n\u001b[0;32m   6298\u001b[0m             \u001b[1;32mreturn\u001b[0m \u001b[0mself\u001b[0m\u001b[1;33m[\u001b[0m\u001b[0mname\u001b[0m\u001b[1;33m]\u001b[0m\u001b[1;33m\u001b[0m\u001b[1;33m\u001b[0m\u001b[0m\n\u001b[1;32m-> 6299\u001b[1;33m         \u001b[1;32mreturn\u001b[0m \u001b[0mobject\u001b[0m\u001b[1;33m.\u001b[0m\u001b[0m__getattribute__\u001b[0m\u001b[1;33m(\u001b[0m\u001b[0mself\u001b[0m\u001b[1;33m,\u001b[0m \u001b[0mname\u001b[0m\u001b[1;33m)\u001b[0m\u001b[1;33m\u001b[0m\u001b[1;33m\u001b[0m\u001b[0m\n\u001b[0m",
      "\u001b[1;31mAttributeError\u001b[0m: 'DataFrame' object has no attribute 'toarray'"
     ]
    }
   ],
   "source": [
    "np.isnan(dataset.toarray())"
   ]
  },
  {
   "cell_type": "code",
   "execution_count": 4,
   "metadata": {},
   "outputs": [],
   "source": [
    "# mlflow.set_tracking_uri(\"http://192.168.0.1:5000\")\n",
    "# mlflow.set_tracking_uri(\"http://0.0.0.0:5001/\")\n",
    "\n",
    "# load the dataset\n",
    "dataset = pd.read_csv(\"train.csv\")\n",
    "X = dataset.drop(columns=['Loan_ID', 'Loan_Status'])\n",
    "y = dataset.Loan_Status\n",
    "\n",
    "numerical_cols = X.select_dtypes(include=['int64','float64']).columns.tolist()\n",
    "categorical_cols = X.select_dtypes(include=['object']).columns.tolist()\n",
    "\n",
    "#imputing missing numerical values\n",
    "imputer_num = SimpleImputer(strategy='median')\n",
    "df_num_imputed = pd.DataFrame(imputer_num.fit_transform(X.select_dtypes(include=['int64','float64'])), columns=numerical_cols)\n",
    "\n",
    "#imputing missing categarical values\n",
    "imputer_cat = SimpleImputer(strategy='most_frequent')\n",
    "df_cat_imputed = pd.DataFrame(imputer_cat.fit_transform(X.select_dtypes(include=['object'])), columns=categorical_cols)\n",
    "\n",
    "cat_encoder = OneHotEncoder()\n",
    "encoded = cat_encoder.fit_transform(df_cat_imputed)\n",
    "df_cat_encoded = pd.DataFrame(encoded.toarray(),columns=cat_encoder.get_feature_names_out()) \n",
    "X = pd.concat([df_num_imputed,df_cat_encoded], axis=1)"
   ]
  },
  {
   "cell_type": "code",
   "execution_count": 5,
   "metadata": {},
   "outputs": [],
   "source": [
    "# Take care of outliers\n",
    "X[numerical_cols] = X[numerical_cols].apply(lambda x: x.clip(*x.quantile([0.05, 0.95])))\n",
    "# Log Transforamtion & Domain Processing\n",
    "X['LoanAmount'] = np.log(X['LoanAmount']).copy()\n",
    "X['TotalIncome'] = X['ApplicantIncome'] + X['CoapplicantIncome']\n",
    "X['TotalIncome'] = np.log(X['TotalIncome']).copy()\n",
    "\n",
    "# Dropping ApplicantIncome and CoapplicantIncome\n",
    "X = X.drop(columns=['ApplicantIncome','CoapplicantIncome'])\n"
   ]
  },
  {
   "cell_type": "code",
   "execution_count": 6,
   "metadata": {},
   "outputs": [
    {
     "data": {
      "text/plain": [
       "(614,)"
      ]
     },
     "execution_count": 6,
     "metadata": {},
     "output_type": "execute_result"
    }
   ],
   "source": [
    "y.shape"
   ]
  },
  {
   "cell_type": "code",
   "execution_count": 7,
   "metadata": {},
   "outputs": [],
   "source": [
    "\n",
    "# Train test split\n",
    "y = dataset.Loan_Status\n",
    "le = LabelEncoder()\n",
    "y = le.fit_transform(y)\n",
    "RANDOM_SEED = 6\n",
    "\n",
    "X_train, X_test, y_train, y_test = train_test_split(X,y, test_size =0.3, random_state = RANDOM_SEED)\n"
   ]
  },
  {
   "cell_type": "code",
   "execution_count": 8,
   "metadata": {},
   "outputs": [
    {
     "name": "stderr",
     "output_type": "stream",
     "text": [
      "c:\\Users\\mrafi\\anaconda3\\envs\\mflowenv\\lib\\site-packages\\numpy\\ma\\core.py:2881: RuntimeWarning: invalid value encountered in cast\n",
      "  _data = np.array(data, dtype=dtype, copy=copy,\n",
      "c:\\Users\\mrafi\\anaconda3\\envs\\mflowenv\\lib\\site-packages\\numpy\\ma\\core.py:2881: RuntimeWarning: invalid value encountered in cast\n",
      "  _data = np.array(data, dtype=dtype, copy=copy,\n"
     ]
    }
   ],
   "source": [
    "# RandomForest\n",
    "rf = RandomForestClassifier(random_state=RANDOM_SEED)\n",
    "param_grid_forest = {\n",
    "    'n_estimators': [200,400, 700],\n",
    "    'max_depth': [10,20,30],\n",
    "    'criterion' : [\"gini\", \"entropy\"],\n",
    "    'max_leaf_nodes': [50, 100]\n",
    "}\n",
    "\n",
    "grid_forest = GridSearchCV(\n",
    "        estimator=rf,\n",
    "        param_grid=param_grid_forest, \n",
    "        cv=5, \n",
    "        n_jobs=-1, \n",
    "        scoring='accuracy',\n",
    "        verbose=0\n",
    "    )\n",
    "model_forest = grid_forest.fit(X_train, y_train)\n",
    "\n",
    "#Logistic Regression\n",
    "\n",
    "lr = LogisticRegression(random_state=RANDOM_SEED)\n",
    "param_grid_log = {\n",
    "    'C': [100, 10, 1.0, 0.1, 0.01],\n",
    "    'penalty': ['l1','l2'],\n",
    "    'solver':['liblinear']\n",
    "}\n",
    "\n",
    "grid_log = GridSearchCV(\n",
    "        estimator=lr,\n",
    "        param_grid=param_grid_log, \n",
    "        cv=5,\n",
    "        n_jobs=-1,\n",
    "        scoring='accuracy',\n",
    "        verbose=0\n",
    "    )\n",
    "model_log = grid_log.fit(X_train, y_train)\n",
    "\n",
    "#Decision Tree\n",
    "\n",
    "dt = DecisionTreeClassifier(\n",
    "    random_state=RANDOM_SEED\n",
    ")\n",
    "\n",
    "param_grid_tree = {\n",
    "    \"max_depth\": [3, 5, 7, 9, 11, 13],\n",
    "    'criterion' : [\"gini\", \"entropy\"],\n",
    "}\n",
    "\n",
    "grid_tree = GridSearchCV(\n",
    "        estimator=dt,\n",
    "        param_grid=param_grid_tree, \n",
    "        cv=5,\n",
    "        n_jobs=-1,\n",
    "        scoring='accuracy',\n",
    "        verbose=0\n",
    "    )\n",
    "model_tree = grid_tree.fit(X_train, y_train)"
   ]
  }
 ],
 "metadata": {
  "kernelspec": {
   "display_name": "mflowenv",
   "language": "python",
   "name": "python3"
  },
  "language_info": {
   "codemirror_mode": {
    "name": "ipython",
    "version": 3
   },
   "file_extension": ".py",
   "mimetype": "text/x-python",
   "name": "python",
   "nbconvert_exporter": "python",
   "pygments_lexer": "ipython3",
   "version": "3.10.0"
  }
 },
 "nbformat": 4,
 "nbformat_minor": 2
}
